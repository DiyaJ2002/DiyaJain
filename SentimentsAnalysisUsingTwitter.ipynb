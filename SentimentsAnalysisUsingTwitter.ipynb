{
  "nbformat": 4,
  "nbformat_minor": 0,
  "metadata": {
    "colab": {
      "provenance": [],
      "authorship_tag": "ABX9TyOC2RrpvwDcU8/fg77rz7GE",
      "include_colab_link": true
    },
    "kernelspec": {
      "name": "python3",
      "display_name": "Python 3"
    },
    "language_info": {
      "name": "python"
    }
  },
  "cells": [
    {
      "cell_type": "markdown",
      "metadata": {
        "id": "view-in-github",
        "colab_type": "text"
      },
      "source": [
        "<a href=\"https://colab.research.google.com/github/DiyaJ2002/DiyaJain/blob/main/SentimentsAnalysisUsingTwitter.ipynb\" target=\"_parent\"><img src=\"https://colab.research.google.com/assets/colab-badge.svg\" alt=\"Open In Colab\"/></a>"
      ]
    },
    {
      "cell_type": "code",
      "execution_count": null,
      "metadata": {
        "id": "oX_84jFbuA7E"
      },
      "outputs": [],
      "source": [
        "#Twitter Sentimeny Analysis Using Python"
      ]
    },
    {
      "cell_type": "code",
      "source": [
        "#import the libraries needed\n",
        "import tweepy\n",
        "from textblob import TextBlob\n",
        "from wordcloud import WordCloud\n",
        "import pandas as pd\n",
        "import numpy as np\n",
        "import re\n",
        "import matplotlib.pyplot as plt\n",
        "plt.style.use('fivethirtyeight')"
      ],
      "metadata": {
        "id": "Gj4cRmeEuFhg"
      },
      "execution_count": null,
      "outputs": []
    },
    {
      "cell_type": "code",
      "source": [
        "#Twitter API keys and Tokens\n",
        "Access_token=\"1546858586437189634-2MmTjCZWYMVUDhRfTrEmYoHk0UUvKp\"\n",
        "Access_token_secret=\"glc9BrPiZXwrNyNA7CI4OZ4NfHIcegSQmwdgWnD39QPp3\"\n",
        "Consumer_key=\"KYYLiUqWCkCBGSnvF5RKR6XoH\"\n",
        "Consumer_secret=\"IrQEA0xApWF4NmPjCFDPmmrLLAG3pBKT1fy4jKH1r5Ne67xnNA\""
      ],
      "metadata": {
        "id": "j5z6qp3luIof"
      },
      "execution_count": null,
      "outputs": []
    },
    {
      "cell_type": "code",
      "source": [
        "#Creating OAuthHandler instance and make it equipped with access token\n",
        "auth = tweepy.OAuthHandler(Consumer_key, Consumer_secret)\n",
        "auth.set_access_token(Access_token, Access_token_secret)\n",
        "api= tweepy.API(auth,wait_on_rate_limit=True)"
      ],
      "metadata": {
        "id": "K1UDpsfRuLxL"
      },
      "execution_count": null,
      "outputs": []
    },
    {
      "cell_type": "code",
      "source": [
        "#Verifying Our credentials using exception handling\n",
        "try: \n",
        "  api.verify_credentials()\n",
        "  print('Success')\n",
        "except:\n",
        "  print('failed')"
      ],
      "metadata": {
        "id": "L2cx-0abuOeZ"
      },
      "execution_count": null,
      "outputs": []
    },
    {
      "cell_type": "code",
      "source": [
        "#Taking number of tweets we want to analyze as input\n",
        "num= int(input(\"Enter the number of tweets you want to analyze:\"))"
      ],
      "metadata": {
        "id": "CxNwGZyyuRUA"
      },
      "execution_count": null,
      "outputs": []
    },
    {
      "cell_type": "code",
      "source": [
        "#Taking hashtag or keyword as an input\n",
        "searchTerm = input(\"Enter Keyword/Tag to search about: \")\n",
        "search_query = searchTerm"
      ],
      "metadata": {
        "id": "VSYW5zXguUz_"
      },
      "execution_count": null,
      "outputs": []
    },
    {
      "cell_type": "code",
      "source": [
        "# get tweets from the API\n",
        "tweets = tweepy.Cursor(api.search,q=search_query,lang=\"en\",since=\"2020-09-16\").items(num)\n",
        "# store the API responses in a list\n",
        "tweets_copy = []\n",
        "for tweet in tweets:\n",
        "    tweets_copy.append(tweet)\n",
        "    \n",
        "print(\"Total Tweets fetched:\", len(tweets_copy))"
      ],
      "metadata": {
        "id": "HmtNszhKuXum"
      },
      "execution_count": null,
      "outputs": []
    },
    {
      "cell_type": "code",
      "source": [
        "#Fetching the status of tweets using api.get_status() method of api class in tweepy module\n",
        "text = api.get_status(id=tweet.id, tweet_mode='extended').full_text"
      ],
      "metadata": {
        "id": "wrz51ekZubHJ"
      },
      "execution_count": null,
      "outputs": []
    },
    {
      "cell_type": "code",
      "source": [
        "tweets_df = pd.DataFrame()\n",
        "# populate the dataframe\n",
        "for tweet in tweets_copy:\n",
        "    hashtags = []\n",
        "    try:\n",
        "        for hashtag in tweet.entities[\"hashtags\"]:\n",
        "            hashtags.append(hashtag[\"text\"])\n",
        "        text = api.get_status(id=tweet.id, tweet_mode='extended').full_text\n",
        "    except:\n",
        "        pass\n",
        "    tweets_df = tweets_df.append(pd.DataFrame({'user_name': tweet.user.name,'user_description': tweet.user.description,'date': tweet.created_at,'text': text, 'hashtags': [hashtags if hashtags else None],}))\n",
        "    tweets_df = tweets_df.reset_index(drop=True)\n",
        "# show the dataframe\n",
        "tweets_df.head()"
      ],
      "metadata": {
        "id": "XgweDa6RudyL"
      },
      "execution_count": null,
      "outputs": []
    },
    {
      "cell_type": "code",
      "source": [
        "#Method to remove hashtags, retweets, mentions and urls from the tweets\n",
        "def cleanText(text):\n",
        "    text = re.sub(r'@[A-Za-z0-9]+', '',text) #r tells that it is a raw string\n",
        "    text = re.sub(r'#','',text)\n",
        "    text = re.sub(r'RT[\\s]+','',text)\n",
        "    text = re.sub(r'https?:\\/\\/\\S+','',text)\n",
        "    return text\n",
        "tweets_df['text']= tweets_df['text'].apply(cleanText)\n",
        "tweets_df"
      ],
      "metadata": {
        "id": "_hLVL1-qugdR"
      },
      "execution_count": null,
      "outputs": []
    },
    {
      "cell_type": "code",
      "source": [
        "#Calculating subjectivity of tweets using TextBlob library \n",
        "def getSub(text):\n",
        "  return TextBlob(text).sentiment.subjectivity\n",
        "\n",
        "#Calculating polarity of tweets using TextBlob library \n",
        "def getPolarity(text):\n",
        "   return TextBlob(text).sentiment.polarity\n",
        "\n",
        "tweets_df['Subjectivity']=tweets_df['text'].apply(getSub)\n",
        "tweets_df['Polarity']=tweets_df['text'].apply(getPolarity)\n",
        "tweets_df"
      ],
      "metadata": {
        "id": "mKk0slEIujrE"
      },
      "execution_count": null,
      "outputs": []
    },
    {
      "cell_type": "code",
      "source": [
        "#representing the data in worldcloud form\n",
        "allWords = ' '.join( [twts for twts in tweets_df['text']])\n",
        "wordCloud = WordCloud(width=1000,height=700, random_state=21, max_font_size=119).generate(allWords)\n",
        "\n",
        "plt.imshow(wordCloud, interpolation=\"bilinear\")\n",
        "plt.axis('off')\n",
        "plt.show()"
      ],
      "metadata": {
        "id": "frSf_JuXunr-"
      },
      "execution_count": null,
      "outputs": []
    },
    {
      "cell_type": "code",
      "source": [
        "#defining as positive, negative and neutral\n",
        "def getAnalysis(score):\n",
        "  if score<0:\n",
        "    return 'Negative'\n",
        "  elif score == 0:\n",
        "    return 'Neutral'\n",
        "  else:\n",
        "    return 'Positive'\n",
        "\n",
        "tweets_df['Analysis']=tweets_df['Polarity'].apply(getAnalysis)\n",
        "\n",
        "tweets_df"
      ],
      "metadata": {
        "id": "bGhsfDicuqmi"
      },
      "execution_count": null,
      "outputs": []
    },
    {
      "cell_type": "code",
      "source": [
        "#positive tweets\n",
        "j=1\n",
        "sortedDF = tweets_df.sort_values(by=['Polarity'])\n",
        "for i in range(0, sortedDF.shape[0]):\n",
        "  if( sortedDF['Analysis'][i]=='Positive'):\n",
        "     print(str(j) + ')' +sortedDF['text'][i])\n",
        "     print()\n",
        "     j=j+1"
      ],
      "metadata": {
        "id": "LzAO2bscutvt"
      },
      "execution_count": null,
      "outputs": []
    },
    {
      "cell_type": "code",
      "source": [
        "#Negative tweets\n",
        "j=1\n",
        "sortedDF = tweets_df.sort_values(by=['Polarity'], ascending='False')\n",
        "for i in range(0,sortedDF.shape[0]):\n",
        "  if(sortedDF['Analysis'][i]=='Negative'):\n",
        "    print(str(j)+')'+sortedDF['text'][i])\n",
        "    print()\n",
        "    j=j+1"
      ],
      "metadata": {
        "id": "YckHBQkmuwYI"
      },
      "execution_count": null,
      "outputs": []
    },
    {
      "cell_type": "code",
      "source": [
        "#Scatter plot represenation of data\n",
        "plt.figure(figsize=(8,6))\n",
        "for i in range(0,tweets_df.shape[0]):\n",
        "  plt.scatter(tweets_df['Polarity'][i],tweets_df['Subjectivity'][i], color='Blue')\n",
        "\n",
        "plt.title('Sentiment Analysis')\n",
        "plt.xlabel('Polarity')\n",
        "plt.ylabel('Subjectivity')\n",
        "plt.show()"
      ],
      "metadata": {
        "id": "ZtuLoGExuytk"
      },
      "execution_count": null,
      "outputs": []
    },
    {
      "cell_type": "code",
      "source": [
        "#percentage of positive tweets\n",
        "ptweets = tweets_df[tweets_df.Analysis=='Positive']\n",
        "ptweets = ptweets['text']\n",
        "\n",
        "round((ptweets.shape[0]/tweets_df.shape[0])*100, 1)"
      ],
      "metadata": {
        "id": "CxUwNvWou11E"
      },
      "execution_count": null,
      "outputs": []
    },
    {
      "cell_type": "code",
      "source": [
        "#percentage of negative\n",
        "ntweets = tweets_df[tweets_df.Analysis=='Negative']\n",
        "ntweets = ntweets['text']\n",
        "\n",
        "round((ntweets.shape[0]/tweets_df.shape[0])*100,1)"
      ],
      "metadata": {
        "id": "TX46b1uPu4-m"
      },
      "execution_count": null,
      "outputs": []
    },
    {
      "cell_type": "code",
      "source": [
        "#Bar graph representation of data\n",
        "tweets_df['Analysis'].value_counts()\n",
        "\n",
        "plt.title('Sentiment Analysis')\n",
        "plt.xlabel('Sentiment')\n",
        "plt.ylabel('Counts')\n",
        "tweets_df['Analysis'].value_counts().plot(kind='bar')\n",
        "plt.show()"
      ],
      "metadata": {
        "id": "MELPEvNTu79j"
      },
      "execution_count": null,
      "outputs": []
    }
  ]
}